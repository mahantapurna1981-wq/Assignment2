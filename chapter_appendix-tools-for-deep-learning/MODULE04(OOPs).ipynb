{
  "cells": [
    {
      "cell_type": "markdown",
      "metadata": {
        "id": "view-in-github",
        "colab_type": "text"
      },
      "source": [
        "<a href=\"https://colab.research.google.com/github/mahantapurna1981-wq/Assignment2/blob/main/chapter_appendix-tools-for-deep-learning/MODULE04(OOPs).ipynb\" target=\"_parent\"><img src=\"https://colab.research.google.com/assets/colab-badge.svg\" alt=\"Open In Colab\"/></a>"
      ]
    },
    {
      "cell_type": "markdown",
      "id": "31d9a4c9",
      "metadata": {
        "origin_pos": 0,
        "id": "31d9a4c9"
      },
      "source": [
        "# Using Jupyter Notebooks\n",
        ":label:`sec_jupyter`\n",
        "\n",
        "\n",
        "This section describes how to edit and run the code\n",
        "in each section of this book\n",
        "using the Jupyter Notebook. Make sure you have\n",
        "installed Jupyter and downloaded the\n",
        "code as described in\n",
        ":ref:`chap_installation`.\n",
        "If you want to know more about Jupyter see the excellent tutorial in\n",
        "their [documentation](https://jupyter.readthedocs.io/en/latest/).\n",
        "\n",
        "\n",
        "## Editing and Running the Code Locally\n",
        "\n",
        "Suppose that the local path of the book's code is `xx/yy/d2l-en/`. Use the shell to change the directory to this path (`cd xx/yy/d2l-en`) and run the command `jupyter notebook`. If your browser does not do this automatically, open http://localhost:8888 and you will see the interface of Jupyter and all the folders containing the code of the book, as shown in :numref:`fig_jupyter00`.\n",
        "\n",
        "![The folders containing the code of this book.](https://github.com/d2l-ai/d2l-en-colab/blob/master/img/jupyter00.png?raw=1)\n",
        ":width:`600px`\n",
        ":label:`fig_jupyter00`\n",
        "\n",
        "\n",
        "You can access the notebook files by clicking on the folder displayed on the webpage.\n",
        "They usually have the suffix \".ipynb\".\n",
        "For the sake of brevity, we create a temporary \"test.ipynb\" file.\n",
        "The content displayed after you click it is\n",
        "shown in :numref:`fig_jupyter01`.\n",
        "This notebook includes a markdown cell and a code cell. The content in the markdown cell includes \"This Is a Title\" and \"This is text.\".\n",
        "The code cell contains two lines of Python code.\n",
        "\n",
        "![Markdown and code cells in the \"text.ipynb\" file.](https://github.com/d2l-ai/d2l-en-colab/blob/master/img/jupyter01.png?raw=1)\n",
        ":width:`600px`\n",
        ":label:`fig_jupyter01`\n",
        "\n",
        "\n",
        "Double click on the markdown cell to enter edit mode.\n",
        "Add a new text string \"Hello world.\" at the end of the cell, as shown in :numref:`fig_jupyter02`.\n",
        "\n",
        "![Edit the markdown cell.](https://github.com/d2l-ai/d2l-en-colab/blob/master/img/jupyter02.png?raw=1)\n",
        ":width:`600px`\n",
        ":label:`fig_jupyter02`\n",
        "\n",
        "\n",
        "As demonstrated in :numref:`fig_jupyter03`,\n",
        "click \"Cell\" $\\rightarrow$ \"Run Cells\" in the menu bar to run the edited cell.\n",
        "\n",
        "![Run the cell.](https://github.com/d2l-ai/d2l-en-colab/blob/master/img/jupyter03.png?raw=1)\n",
        ":width:`600px`\n",
        ":label:`fig_jupyter03`\n",
        "\n",
        "After running, the markdown cell is shown in :numref:`fig_jupyter04`.\n",
        "\n",
        "![The markdown cell after running.](https://github.com/d2l-ai/d2l-en-colab/blob/master/img/jupyter04.png?raw=1)\n",
        ":width:`600px`\n",
        ":label:`fig_jupyter04`\n",
        "\n",
        "\n",
        "Next, click on the code cell. Multiply the elements by 2 after the last line of code, as shown in :numref:`fig_jupyter05`.\n",
        "\n",
        "![Edit the code cell.](https://github.com/d2l-ai/d2l-en-colab/blob/master/img/jupyter05.png?raw=1)\n",
        ":width:`600px`\n",
        ":label:`fig_jupyter05`\n",
        "\n",
        "\n",
        "You can also run the cell with a shortcut (\"Ctrl + Enter\" by default) and obtain the output result from :numref:`fig_jupyter06`.\n",
        "\n",
        "![Run the code cell to obtain the output.](https://github.com/d2l-ai/d2l-en-colab/blob/master/img/jupyter06.png?raw=1)\n",
        ":width:`600px`\n",
        ":label:`fig_jupyter06`\n",
        "\n",
        "\n",
        "When a notebook contains more cells, we can click \"Kernel\" $\\rightarrow$ \"Restart & Run All\" in the menu bar to run all the cells in the entire notebook. By clicking \"Help\" $\\rightarrow$ \"Edit Keyboard Shortcuts\" in the menu bar, you can edit the shortcuts according to your preferences.\n",
        "\n",
        "## Advanced Options\n",
        "\n",
        "Beyond local editing two things are quite important: editing the notebooks in the markdown format and running Jupyter remotely.\n",
        "The latter matters when we want to run the code on a faster server.\n",
        "The former matters since Jupyter's native ipynb format stores a lot of auxiliary data that is\n",
        "irrelevant to the content,\n",
        "mostly related to how and where the code is run.\n",
        "This is confusing for Git, making\n",
        "reviewing contributions very difficult.\n",
        "Fortunately there is an alternative---native editing in the markdown format.\n",
        "\n",
        "### Markdown Files in Jupyter\n",
        "\n",
        "If you wish to contribute to the content of this book, you need to modify the\n",
        "source file (md file, not ipynb file) on GitHub.\n",
        "Using the notedown plugin we\n",
        "can modify notebooks in the md format directly in Jupyter.\n",
        "\n",
        "\n",
        "First, install the notedown plugin, run the Jupyter Notebook, and load the plugin:\n",
        "\n",
        "```\n",
        "pip install d2l-notedown  # You may need to uninstall the original notedown.\n",
        "jupyter notebook --NotebookApp.contents_manager_class='notedown.NotedownContentsManager'\n",
        "```\n",
        "\n",
        "You may also turn on the notedown plugin by default whenever you run the Jupyter Notebook.\n",
        "First, generate a Jupyter Notebook configuration file (if it has already been generated, you can skip this step).\n",
        "\n",
        "```\n",
        "jupyter notebook --generate-config\n",
        "```\n",
        "\n",
        "Then, add the following line to the end of the Jupyter Notebook configuration file (for Linux or macOS, usually in the path `~/.jupyter/jupyter_notebook_config.py`):\n",
        "\n",
        "```\n",
        "c.NotebookApp.contents_manager_class = 'notedown.NotedownContentsManager'\n",
        "```\n",
        "\n",
        "After that, you only need to run the `jupyter notebook` command to turn on the notedown plugin by default.\n",
        "\n",
        "### Running Jupyter Notebooks on a Remote Server\n",
        "\n",
        "Sometimes, you may want to run Jupyter notebooks on a remote server and access it through a browser on your local computer. If Linux or macOS is installed on your local machine (Windows can also support this function through third-party software such as PuTTY), you can use port forwarding:\n",
        "\n",
        "```\n",
        "ssh myserver -L 8888:localhost:8888\n",
        "```\n",
        "\n",
        "The above string `myserver` is the address of the remote server.\n",
        "Then we can use http://localhost:8888 to access the remote server `myserver` that runs Jupyter notebooks. We will detail on how to run Jupyter notebooks on AWS instances\n",
        "later in this appendix.\n",
        "\n",
        "### Timing\n",
        "\n",
        "We can use the `ExecuteTime` plugin to time the execution of each code cell in Jupyter notebooks.\n",
        "Use the following commands to install the plugin:\n",
        "\n",
        "```\n",
        "pip install jupyter_contrib_nbextensions\n",
        "jupyter contrib nbextension install --user\n",
        "jupyter nbextension enable execute_time/ExecuteTime\n",
        "```\n",
        "\n",
        "## Summary\n",
        "\n",
        "* Using the Jupyter Notebook tool, we can edit, run, and contribute to each section of the book.\n",
        "* We can run Jupyter notebooks on remote servers using port forwarding.\n",
        "\n",
        "\n",
        "## Exercises\n",
        "\n",
        "1. Edit and run the code in this book with the Jupyter Notebook on your local machine.\n",
        "1. Edit and run the code in this book with the Jupyter Notebook *remotely* via port forwarding.\n",
        "1. Compare the running time of the operations $\\mathbf{A}^\\top \\mathbf{B}$ and $\\mathbf{A} \\mathbf{B}$ for two square matrices in $\\mathbb{R}^{1024 \\times 1024}$. Which one is faster?\n",
        "\n",
        "\n",
        "[Discussions](https://discuss.d2l.ai/t/421)\n"
      ]
    },
    {
      "cell_type": "markdown",
      "source": [
        "#**Python OOPs Question**\n",
        "---\n",
        "\n",
        "\n",
        "##**1. What is Object-Oriented Programming (OOP)?**\n",
        "\n",
        "**Answer:** Object-Oriented Programming (OOP) is a programming paradigm based on the concept of \"objects,\" which can contain data and code to manipulate that data.\n",
        "\n",
        "##**2. What is a class in OOP?**\n",
        "**Answer:** A class is a blueprint for creating objects. It defines a set of attributes and methods that the objects created from the class will have.\n",
        "\n",
        "##**3. What is an object in OOP?**\n",
        "**Answer:** An object is an instance of a class. It is a real-world entity that has a state (attributes) and behavior (methods).\n",
        "\n",
        "##**4. What is the difference between abstraction and encapsulation?**\n",
        "**Answer:** Abstraction is the process of hiding the complex implementation details and showing only the essential features of the object. Encapsulation is the bundling of data and the methods that operate on that data into a single unit (a class), restricting direct access to some of the object's components.\n",
        "\n",
        "##**5. What are dunder methods in Python?**\n",
        "**Answer:** Dunder methods, also known as magic methods, are special methods in Python that have double underscores at the beginning and end of their names (e.g., \\_\\_init\\_\\_, \\_\\_str\\_\\_). They are used to implement special behaviors or functionalities in classes.\n",
        "\n",
        "##**6. Explain the concept of inheritance in OOP.**\n",
        "**Answer:** Inheritance is a mechanism in OOP that allows a new class (child or derived class) to inherit attributes and methods from an existing class (parent or base class). This promotes code reusability.\n",
        "\n",
        "##**7. What is polymorphism in OOP?**\n",
        "**Answer:** Polymorphism means \"many forms.\" In OOP, it allows objects of different classes to be treated as objects of a common superclass. It enables a single interface to be used for different data types.\n",
        "\n",
        "##**8. How is encapsulation achieved in Python?**\n",
        "**Answer:** Encapsulation in Python is achieved by using naming conventions. While Python does not have strict access modifiers like public, private, or protected, a single underscore () is used to suggest a \"protected\" attribute, and a double underscore (_) is used to suggest a \"private\" attribute, which is name-mangled by the interpreter to prevent direct access.\n",
        "\n",
        "##**9. What is a constructor in Python?**\n",
        "**Answer:** A constructor is a special method in a class, named \\_\\_init\\_\\_, that is automatically called when a new object of that class is created. It is used to initialize the object's attributes.\n",
        "\n",
        "##**10. What are class and static methods in Python?**\n",
        "**Answer:** Class methods are methods that are bound to the class and not the instance of the class. They are defined using the @classmethod decorator and take the class itself as the first argument (cls). Static methods are methods that are not bound to either the class or the instance. They are defined using the @staticmethod decorator and do not take self or cls as their first argument.\n",
        "\n",
        "##**11. What is method overloading in Python?**\n",
        "**Answer:** Method overloading is the ability to define multiple methods with the same name but with different numbers or types of parameters. Python does not support method overloading in the traditional sense, but it can be simulated using default arguments or variable-length arguments.\n",
        "\n",
        "##**12. What is method overriding in OOP?**\n",
        "**Answer:** Method overriding is a feature of OOP that allows a subclass to provide a specific implementation for a method that is already defined in its superclass. This allows the subclass to change the behavior of the inherited method.\n",
        "\n",
        "##**13. What is a property decorator in Python?**\n",
        "**Answer:** The @property decorator is a built-in decorator in Python that is used to define a method as a \"property,\" allowing you to use getter and setter-like behavior without explicitly calling the methods. It allows you to access a method as if it were an attribute.\n",
        "\n",
        "##**14. Why is polymorphism important in OOP?**\n",
        "**Answer:** Polymorphism is important because it allows for more flexible and reusable code. It enables a program to handle objects of different classes through a common interface, making the code more generic and easier to maintain.\n",
        "\n",
        "##**15. What is an abstract class in Python?**\n",
        "**Answer:** An abstract class is a class that cannot be instantiated on its own and is meant to be inherited by other classes. It can contain one or more abstract methods, which are methods that are declared but have no implementation. Subclasses must provide an implementation for these abstract methods.\n",
        "\n",
        "##**16. What are the advantages of OOP?**\n",
        "**Answer:** The advantages of OOP include:\n",
        "Modularity: Objects are self-contained units, making code easier to manage and debug.\n",
        "Reusability: Inheritance allows code to be reused, reducing redundancy.\n",
        "Maintainability: Code is easier to maintain and modify due to its structured nature.\n",
        "Security: Encapsulation helps to protect data from unauthorized access.\n",
        "\n",
        "##**17. What is the difference between a class variable and an instance variable?**\n",
        "**Answer:** A class variable is a variable that is shared among all instances of a class. It is defined directly inside the class but outside any method. An instance variable is a variable that belongs to a specific instance of a class and is unique to that instance. It is defined inside a method, typically the \\_\\_init\\_\\_ constructor, using self.\n",
        "\n",
        "##**18. What is multiple inheritance in Python?**\n",
        "**Answer:** Multiple inheritance is a feature in Python where a class can inherit from more than one parent class. This allows the child class to inherit attributes and methods from all of its parent classes.\n",
        "\n",
        "##**19. Explain the purpose of \"\\_\\_str\\_\\_'and'\\_\\_repr\\_\\_\" methods in Python.**\n",
        "\n",
        "\n",
        "**Answer:** The \\_\\_str\\_\\_ method is used to provide a \"user-friendly\" string representation of an object, typically for display to the end-user. The \\_\\_repr\\_\\_ method is used to provide an \"official\" or \"developer-friendly\" string representation of an object, which should be unambiguous and, if possible, a valid Python expression to recreate the object.\n",
        "\n",
        "##**20. What is the significance of the super() function in Python?**\n",
        "**Answer:** The super() function is used to call a method from a parent or superclass. It is commonly used in the _init_ method of a child class to call the parent class's \\_\\_init\\_\\_ method and initialize its attributes, ensuring that the parent class is properly constructed.\n",
        "\n",
        "##**21. What is the significance of the \\_\\_del\\_\\_ method in Python?**\n",
        "**Answer:** The \\_\\_del\\_\\_ method, also known as the destructor, is a special method in Python that is called when an object is about to be destroyed or garbage-collected. It is used to perform cleanup activities, such as closing files or releasing resources.\n",
        "\n",
        "##**22. What is the difference between @staticmethod and @classmethod in Python?**\n",
        "**Answer:** @staticmethod is used for methods that do not need access to the class or instance. They are like regular functions but are part of the class's namespace. @classmethod is used for methods that need access to the class itself, but not a specific instance. They receive the class as the first argument (cls).\n",
        "\n",
        "##**23. How does polymorphism work in Python with inheritance?**\n",
        "**Answer:** In Python, polymorphism with inheritance works by allowing a child class to override a method of its parent class. This means that an object of the child class can be used in place of an object of the parent class, and when the overridden method is called, the child class's version will be executed.\n",
        "\n",
        "##**24. What is method chaining in Python OOP?**\n",
        "**Answer:** Method chaining is a technique where multiple method calls are made on the same object in a single statement. This is achieved by having each method return the object itself (return self), allowing the next method in the chain to be called on the same object.\n",
        "\n",
        "##**25. What is the purpose of the \\_\\_call\\_\\_ method in Python?**\n",
        "**Answer:** The \\_\\_call\\_\\_ method allows an instance of a class to be called as if it were a function. When an object is called using parentheses, the \\_\\_call\\_\\_ method is automatically executed, allowing the object to have function-like behavior"
      ],
      "metadata": {
        "id": "m52RBDjNQ4mk"
      },
      "id": "m52RBDjNQ4mk"
    },
    {
      "cell_type": "markdown",
      "source": [
        "#**Practical Question**\n",
        "\n",
        "\n",
        "---\n",
        "\n",
        "\n",
        "##**1. Create a parent class Animal with a method speak() that prints a generic message. Create a child class Dog that overrides the speak() method to print \"Bark!\".**\n",
        "\n",
        "##**2. Write a program to create an abstract class Shape with a method area(). Derive classes Circle and Rectangle from it and implement the area() method in both.**\n",
        "\n",
        "##**3. Implement a multi-level inheritance scenario where a class Vehicle has an attribute type. Derive a class Car and further derive a class ElectricCar that adds a battery attribute.**\n",
        "\n",
        "##**4. Demonstrate polymorphism by creating a base class Bird with a method fly(). Create two derived classes Sparrow and Penguin that override the fly() method.**\n",
        "\n",
        "##**5. Write a program to demonstrate encapsulation by creating a class BankAccount with private attributes balance and methods to deposit, withdraw, and check balance.**\n",
        "\n",
        "##**6. Demonstrate runtime polymorphism using a method play() in a base class instrument. Derive classes Guitar and Piano that implement their own version of play().**\n",
        "\n",
        "##**7. Create a class MathOperations with a class method add_numbers() to add two numbers and a static method subtract_numbers() to subtract two numbers.**\n",
        "\n",
        "##**8. Implement a class Person with a class method to count the total number of persons created.**\n",
        "\n",
        "##**9. Write a class Fraction with attributes numerator and denominator. Override the str method to display the fraction as 'numerator/denominator\".**\n",
        "\n",
        "##**10. Demonstrate operator overloading by creating a class Vector and overriding the add method to add two vectors.**\n",
        "\n",
        "##**11. Create a class Person with attributes name and age. Add a method greet() that prints \"Hello, my name is (name) and I am (age) years old.\"**\n",
        "\n",
        "##**12. Implement a class Student with attributes name and grades. Create a method average_grade() to compute the average of the grades.**\n",
        "\n",
        "##**13. Create a class Rectangle with methods set dimensions() to set the dimensions and area() to calculate the area.**\n",
        "\n",
        "##**14. Create a class Employee with a method calculate_salary() that computes the salary based on hours worked and hourly rate. Create a derived class Manager that adds a bonus to the salary.**\n",
        "\n",
        "##**15. Create a class Product with attributes name, price, and quantity. Implement a method total price() that calculates the total price of the product.**\n",
        "\n",
        "##**16. Create a class Animal with an abstract method sound(). Create two derived classes Cow and Sheep that implement the sound() method.**\n",
        "\n",
        "##**17. Create a class Book with attributes title, author, and year_published. Add a method get_book_info() that returns a formatted string with the book's details.**\n",
        "\n",
        "##**18. Create a class House with attributes address and price. Create a derived class Mansion that adds an attribute number_of_rooms.**"
      ],
      "metadata": {
        "id": "bfg9D8Vug2nM"
      },
      "id": "bfg9D8Vug2nM"
    },
    {
      "cell_type": "code",
      "source": [
        "#1\n",
        "class Animal:\n",
        "  def speak(self):\n",
        "    print(\"I am an animal\")\n",
        "class Cat(Animal):\n",
        "  def speak(self):\n",
        "    print(\"Meow!\")"
      ],
      "metadata": {
        "id": "BHjT07MSjGsB"
      },
      "id": "BHjT07MSjGsB",
      "execution_count": 18,
      "outputs": []
    },
    {
      "cell_type": "code",
      "source": [
        "#2\n",
        "from abc import ABC, abstractmethod\n",
        "import math\n",
        "class Shape(ABC):\n",
        "  @abstractmethod\n",
        "  def area(self):\n",
        "    pass\n",
        "class Circle(Shape):\n",
        "  def __init__(self,radius):\n",
        "    self.radius=radius\n",
        "  def area(self):\n",
        "      return math.pi*self.radius**2\n",
        "class Rectangle(Shape):\n",
        "  def __init__(self,length,width):\n",
        "    self.length=length\n",
        "    self.width=width\n",
        "  def area(self):\n",
        "      return self.length*self.width\n"
      ],
      "metadata": {
        "id": "qh-XwKKfjvxj"
      },
      "id": "qh-XwKKfjvxj",
      "execution_count": 40,
      "outputs": []
    },
    {
      "cell_type": "code",
      "source": [
        "circle = Circle(10)\n",
        "rectangle = Rectangle(10, 20)\n",
        "ABC = circle.area()\n",
        "print(ABC)\n",
        "ABCD = rectangle.area()\n",
        "print(ABCD)"
      ],
      "metadata": {
        "colab": {
          "base_uri": "https://localhost:8080/"
        },
        "id": "lCdv1NW9nGxw",
        "outputId": "88ac16d3-b521-4768-d012-f9160a44e83d"
      },
      "id": "lCdv1NW9nGxw",
      "execution_count": 43,
      "outputs": [
        {
          "output_type": "stream",
          "name": "stdout",
          "text": [
            "314.1592653589793\n",
            "200\n"
          ]
        }
      ]
    },
    {
      "cell_type": "code",
      "source": [
        "#3\n",
        "class Vehicle:\n",
        "  def __init__(self,type):\n",
        "    self.type=type\n",
        "class Car(Vehicle):\n",
        "  def __init__(self,type,model):\n",
        "    super().__init__(type)\n",
        "    self.model=model\n",
        "class ElectricCar(Car):\n",
        "  def __init__(self,type,model,battery):\n",
        "    super().__init__(type,model)\n",
        "    self.battery=battery"
      ],
      "metadata": {
        "id": "Psq89bH0jvuO"
      },
      "id": "Psq89bH0jvuO",
      "execution_count": 4,
      "outputs": []
    },
    {
      "cell_type": "code",
      "source": [
        "Suzuki=Vehicle(\"Bike\")\n",
        "print(Suzuki.type)"
      ],
      "metadata": {
        "colab": {
          "base_uri": "https://localhost:8080/"
        },
        "id": "diFR1mpysaX2",
        "outputId": "a5b28966-f988-4360-da97-1cc9d8280642"
      },
      "id": "diFR1mpysaX2",
      "execution_count": 6,
      "outputs": [
        {
          "output_type": "stream",
          "name": "stdout",
          "text": [
            "Bike\n"
          ]
        }
      ]
    },
    {
      "cell_type": "code",
      "source": [
        "#4\n",
        "class Bird:\n",
        "  def fly(self):\n",
        "    print(\"I can fly\")\n",
        "class Sparrow(Bird):\n",
        "  def fly(self):\n",
        "    print(\"I can fly high\")\n",
        "class Penguin(Bird):\n",
        "  def fly(self):\n",
        "    print(\"I can not fly\")"
      ],
      "metadata": {
        "id": "rSX77pfvmaqC"
      },
      "execution_count": 51,
      "outputs": [],
      "id": "rSX77pfvmaqC"
    },
    {
      "cell_type": "code",
      "source": [
        "rak=Sparrow()\n",
        "rak.fly()\n",
        "ris=Penguin()\n",
        "ris.fly()"
      ],
      "metadata": {
        "colab": {
          "base_uri": "https://localhost:8080/"
        },
        "id": "ei2rbR7sjvrR",
        "outputId": "683bf333-4f9f-4686-bc3a-de3cc82739cc"
      },
      "id": "ei2rbR7sjvrR",
      "execution_count": 53,
      "outputs": [
        {
          "output_type": "stream",
          "name": "stdout",
          "text": [
            "I can fly high\n",
            "I can not fly\n"
          ]
        }
      ]
    },
    {
      "cell_type": "code",
      "source": [
        "#5\n",
        "class BankAccount:\n",
        "  def __init__(self,balance):\n",
        "    self.__balance=balance\n",
        "  def deposit(self,amount):\n",
        "    self.__balance+=amount\n",
        "  def withdraw(self,amount):\n",
        "    if self.__balance>=amount:\n",
        "      self.__balance-=amount\n",
        "    else:\n",
        "      print(f\"insufficient balance your current balance is, {self.__balance}\")"
      ],
      "metadata": {
        "id": "QQiOeOlEjvkB"
      },
      "id": "QQiOeOlEjvkB",
      "execution_count": 15,
      "outputs": []
    },
    {
      "cell_type": "code",
      "source": [
        "r=BankAccount(1000)\n",
        "r.deposit(10000)\n",
        "r.withdraw(1000000)"
      ],
      "metadata": {
        "colab": {
          "base_uri": "https://localhost:8080/"
        },
        "id": "ADoDGPgpjvhW",
        "outputId": "4e49c953-0334-4ae5-ce13-65c876291977"
      },
      "id": "ADoDGPgpjvhW",
      "execution_count": 16,
      "outputs": [
        {
          "output_type": "stream",
          "name": "stdout",
          "text": [
            "insufficient balance your current balance is, 11000\n"
          ]
        }
      ]
    },
    {
      "cell_type": "code",
      "source": [
        "#6\n",
        "class Instrument:\n",
        "  def play(self):\n",
        "    print(\"by instrumet music sounds highly melodiuos\")\n",
        "class Guitar(Instrument):\n",
        "  def play(self):\n",
        "    print(\"by guitar music sounds melodiuos\")\n",
        "class Piano(Instrument):\n",
        "  def play(self):\n",
        "    print(\"by piano music sounds melodious\")"
      ],
      "metadata": {
        "id": "2LduPEv3jveq"
      },
      "id": "2LduPEv3jveq",
      "execution_count": 17,
      "outputs": []
    },
    {
      "cell_type": "code",
      "source": [
        "r=Piano()\n",
        "r.play()\n",
        "s=Guitar()\n",
        "s.play()\n",
        "g=Instrument()\n",
        "g.play()"
      ],
      "metadata": {
        "colab": {
          "base_uri": "https://localhost:8080/"
        },
        "id": "7n9zftpejvbg",
        "outputId": "462f94aa-c1e9-4818-e6a0-9585345aa2f7"
      },
      "id": "7n9zftpejvbg",
      "execution_count": 22,
      "outputs": [
        {
          "output_type": "stream",
          "name": "stdout",
          "text": [
            "by piano music sounds melodious\n",
            "by guitar music sounds melodiuos\n",
            "by instrumet music sounds highly melodiuos\n"
          ]
        }
      ]
    },
    {
      "cell_type": "code",
      "source": [
        "#7\n",
        "class MathOperations:\n",
        "  @classmethod\n",
        "  def add_numbers(cls,a,b):\n",
        "    return a+b\n",
        "  @staticmethod\n",
        "  def subtract_numbers(a,b):\n",
        "    return a-b"
      ],
      "metadata": {
        "id": "N3mUzgsfjvYa"
      },
      "id": "N3mUzgsfjvYa",
      "execution_count": 23,
      "outputs": []
    },
    {
      "cell_type": "code",
      "source": [
        "s=MathOperations()\n",
        "s.add_numbers(10,20)\n",
        "s.subtract_numbers(70,20)"
      ],
      "metadata": {
        "colab": {
          "base_uri": "https://localhost:8080/"
        },
        "id": "xjyxkKEajvWU",
        "outputId": "4d9dfe23-14a5-41b3-f210-253de0710058"
      },
      "id": "xjyxkKEajvWU",
      "execution_count": 28,
      "outputs": [
        {
          "output_type": "execute_result",
          "data": {
            "text/plain": [
              "50"
            ]
          },
          "metadata": {},
          "execution_count": 28
        }
      ]
    },
    {
      "cell_type": "code",
      "source": [
        "#8\n",
        "class Person:\n",
        "  count=0\n",
        "  @classmethod\n",
        "  def count_person(cls):\n",
        "    cls.count+=1\n"
      ],
      "metadata": {
        "id": "vM5hbla1jvTL"
      },
      "id": "vM5hbla1jvTL",
      "execution_count": 40,
      "outputs": []
    },
    {
      "cell_type": "code",
      "source": [
        "for i in range(10):\n",
        "  Person.count_person()\n",
        "print(Person.count)#each run of cell count"
      ],
      "metadata": {
        "colab": {
          "base_uri": "https://localhost:8080/"
        },
        "id": "LT_Jz5NjjvQ_",
        "outputId": "1414dcf3-8478-4f32-83c1-adb5b4d76b9a"
      },
      "id": "LT_Jz5NjjvQ_",
      "execution_count": 43,
      "outputs": [
        {
          "output_type": "stream",
          "name": "stdout",
          "text": [
            "30\n"
          ]
        }
      ]
    },
    {
      "cell_type": "code",
      "source": [
        "#9\n",
        "class Fraction:\n",
        "  def __init__(self,numerator,denominator):\n",
        "    self.numerator=numerator\n",
        "    self.denominator=denominator\n",
        "  def __str__(self):\n",
        "    return f\"{self.numerator}/{self.denominator}\""
      ],
      "metadata": {
        "id": "4t37rF-KjvNp"
      },
      "id": "4t37rF-KjvNp",
      "execution_count": 44,
      "outputs": []
    },
    {
      "cell_type": "code",
      "source": [
        "t=Fraction(10,20)\n",
        "print(t)"
      ],
      "metadata": {
        "colab": {
          "base_uri": "https://localhost:8080/"
        },
        "id": "-fhR6pBsjvKP",
        "outputId": "b0a919f0-648b-49f6-a4ae-b7966eec04ff"
      },
      "id": "-fhR6pBsjvKP",
      "execution_count": 46,
      "outputs": [
        {
          "output_type": "stream",
          "name": "stdout",
          "text": [
            "10/20\n"
          ]
        }
      ]
    },
    {
      "cell_type": "code",
      "source": [
        "#10\n",
        "class Vector:\n",
        "  def __init__(self,x,y):\n",
        "    self.x=x\n",
        "    self.y=y\n",
        "  def __add__(self,other):\n",
        "    return Vector(self.x+other.x,self.y+other.y)"
      ],
      "metadata": {
        "id": "aoJ8iIirjvIf"
      },
      "id": "aoJ8iIirjvIf",
      "execution_count": 65,
      "outputs": []
    },
    {
      "cell_type": "code",
      "source": [
        "d=Vector(10,20)\n",
        "e=Vector(30,40)\n",
        "d+e"
      ],
      "metadata": {
        "colab": {
          "base_uri": "https://localhost:8080/"
        },
        "id": "OaixDgoQ0uet",
        "outputId": "270bf0f3-2a53-436d-ab38-990afaff264b"
      },
      "id": "OaixDgoQ0uet",
      "execution_count": 66,
      "outputs": [
        {
          "output_type": "execute_result",
          "data": {
            "text/plain": [
              "<__main__.Vector at 0x7879ec2c1040>"
            ]
          },
          "metadata": {},
          "execution_count": 66
        }
      ]
    },
    {
      "cell_type": "code",
      "source": [
        "#11\n",
        "class Person:\n",
        "  def __init__(self,name,age):\n",
        "    self.name=name\n",
        "    self.age=age\n",
        "  def greet(self):\n",
        "    print(f\"Hello, my name is {self.name} and I am {self.age} years old.\")"
      ],
      "metadata": {
        "id": "ZKs0mnc-0ua4"
      },
      "id": "ZKs0mnc-0ua4",
      "execution_count": 67,
      "outputs": []
    },
    {
      "cell_type": "code",
      "source": [
        "sr=Person(\"Tushar\",18)\n",
        "sr.greet()"
      ],
      "metadata": {
        "colab": {
          "base_uri": "https://localhost:8080/"
        },
        "id": "MaWQuUY-0uYt",
        "outputId": "dc3f331b-1b47-43ac-9cc4-e226179530fa"
      },
      "id": "MaWQuUY-0uYt",
      "execution_count": 68,
      "outputs": [
        {
          "output_type": "stream",
          "name": "stdout",
          "text": [
            "Hello, my name is Tushar and I am 18 years old.\n"
          ]
        }
      ]
    },
    {
      "cell_type": "code",
      "source": [
        "#12\n",
        "class Student:\n",
        "  def __init__(self,name,grades):\n",
        "    self.name=name\n",
        "    self.grades=grades\n",
        "  def average_grade(self):\n",
        "    return sum(self.grades)/len(self.grades)"
      ],
      "metadata": {
        "id": "zWa3UrYc0uXG"
      },
      "id": "zWa3UrYc0uXG",
      "execution_count": 72,
      "outputs": []
    },
    {
      "cell_type": "code",
      "source": [
        "Su=Student(\"Tushar\",[86,90,93])\n",
        "Su.average_grade()"
      ],
      "metadata": {
        "colab": {
          "base_uri": "https://localhost:8080/"
        },
        "id": "LpEPeQ8S0uUy",
        "outputId": "cf82793e-1645-4024-bfa2-752a01a8bdb0"
      },
      "id": "LpEPeQ8S0uUy",
      "execution_count": 73,
      "outputs": [
        {
          "output_type": "execute_result",
          "data": {
            "text/plain": [
              "89.66666666666667"
            ]
          },
          "metadata": {},
          "execution_count": 73
        }
      ]
    },
    {
      "cell_type": "code",
      "source": [
        "#13\n",
        "class Rectangle:\n",
        "  def __init__(self):\n",
        "    self.length=0\n",
        "    self.width=0\n",
        "  def set_dimensions(self,length,width):\n",
        "    self.length=length\n",
        "    self.width=width\n",
        "  def area(self):\n",
        "    return self.length*self.width\n",
        ""
      ],
      "metadata": {
        "id": "w0fmFVw90uSr"
      },
      "id": "w0fmFVw90uSr",
      "execution_count": 94,
      "outputs": []
    },
    {
      "cell_type": "code",
      "source": [
        "ABCD=Rectangle()\n",
        "ABCD.set_dimensions(30,40)\n",
        "print(ABCD.length,ABCD.width)\n",
        "ABCD.area()"
      ],
      "metadata": {
        "colab": {
          "base_uri": "https://localhost:8080/"
        },
        "id": "51uhiqLm0uQk",
        "outputId": "7505f24a-0df9-4ec3-e915-a3ab9b374741"
      },
      "id": "51uhiqLm0uQk",
      "execution_count": 95,
      "outputs": [
        {
          "output_type": "stream",
          "name": "stdout",
          "text": [
            "30 40\n"
          ]
        },
        {
          "output_type": "execute_result",
          "data": {
            "text/plain": [
              "1200"
            ]
          },
          "metadata": {},
          "execution_count": 95
        }
      ]
    },
    {
      "cell_type": "code",
      "source": [
        "#14\n",
        "class Employee:\n",
        "  def __init__(self,name,hours_worked,hourly_rate):\n",
        "    self.name=name\n",
        "    self.hours_worked=hours_worked\n",
        "    self.hourly_rate=hourly_rate\n",
        "  def calculate_salary(self):\n",
        "    return self.hours_worked*self.hourly_rate\n",
        "class Manager(Employee):\n",
        "  def __init__(self,name,hours_worked,hourly_rate,bonus):\n",
        "    super().__init__(name,hours_worked,hourly_rate)\n",
        "    self.bonus=bonus\n",
        "  def calculate_salary(self):\n",
        "    return super().calculate_salary()+self.bonus"
      ],
      "metadata": {
        "id": "uWrYNKWK0uOs"
      },
      "id": "uWrYNKWK0uOs",
      "execution_count": 100,
      "outputs": []
    },
    {
      "cell_type": "code",
      "source": [
        "ra=Manager(\"Tushar\",100,1000,1000)\n",
        "ra.calculate_salary()"
      ],
      "metadata": {
        "colab": {
          "base_uri": "https://localhost:8080/"
        },
        "id": "BvyL8tVnI-B3",
        "outputId": "9e7b248c-1eb7-44ea-fac7-55f48aa3c7e8"
      },
      "id": "BvyL8tVnI-B3",
      "execution_count": 101,
      "outputs": [
        {
          "output_type": "execute_result",
          "data": {
            "text/plain": [
              "101000"
            ]
          },
          "metadata": {},
          "execution_count": 101
        }
      ]
    },
    {
      "cell_type": "code",
      "source": [
        "#15\n",
        "class Product:\n",
        "  def __init__(self,name,price,quantity):\n",
        "    self.name=name\n",
        "    self.price=price\n",
        "    self.quantity=quantity\n",
        "  def total_price(self):\n",
        "    return self.price*self.quantity\n",
        ""
      ],
      "metadata": {
        "id": "FyqZ_8Vc0uM6"
      },
      "id": "FyqZ_8Vc0uM6",
      "execution_count": 102,
      "outputs": []
    },
    {
      "cell_type": "code",
      "source": [
        "Haldi=Product(\"Haldi\",100,10)\n",
        "Haldi.total_price()"
      ],
      "metadata": {
        "colab": {
          "base_uri": "https://localhost:8080/"
        },
        "id": "Z1qbV5Vp0uLU",
        "outputId": "0b5e6363-b831-45bb-8c6b-eadcbbc99193"
      },
      "id": "Z1qbV5Vp0uLU",
      "execution_count": 103,
      "outputs": [
        {
          "output_type": "execute_result",
          "data": {
            "text/plain": [
              "1000"
            ]
          },
          "metadata": {},
          "execution_count": 103
        }
      ]
    },
    {
      "cell_type": "code",
      "source": [
        "#16\n",
        "from abc import ABC,abstractmethod\n",
        "class Animal(ABC):\n",
        "  @abstractmethod\n",
        "  def sound(self):\n",
        "    pass\n",
        "class Cow(Animal):\n",
        "  def sound(self):\n",
        "    print(\"Moo!\")\n",
        "class Sheep(Animal):\n",
        "  def sound(self):\n",
        "    print(\"Baa!\")"
      ],
      "metadata": {
        "id": "OBt7in-3JiYP"
      },
      "id": "OBt7in-3JiYP",
      "execution_count": 104,
      "outputs": []
    },
    {
      "cell_type": "code",
      "source": [
        "boula=Cow()\n",
        "boula.sound()\n",
        "shree=Sheep()\n",
        "shree.sound()"
      ],
      "metadata": {
        "colab": {
          "base_uri": "https://localhost:8080/"
        },
        "id": "WtUkj3r_JiVW",
        "outputId": "0b6bbb25-6df3-4b29-cd10-9d0ba15bec8f"
      },
      "id": "WtUkj3r_JiVW",
      "execution_count": 106,
      "outputs": [
        {
          "output_type": "stream",
          "name": "stdout",
          "text": [
            "Moo!\n",
            "Baa!\n"
          ]
        }
      ]
    },
    {
      "cell_type": "code",
      "source": [
        "#17\n",
        "class Book:\n",
        "  def __init__(self,title,author,year_published):\n",
        "    self.title=title\n",
        "    self.author=author\n",
        "    self.year_published=year_published\n",
        "  def get_book_info(self):\n",
        "    return f\"Title: {self.title}\\nAuthor: {self.author}\\nYear Published: {self.year_published}\""
      ],
      "metadata": {
        "id": "5wCtUy7nJiSy"
      },
      "id": "5wCtUy7nJiSy",
      "execution_count": 107,
      "outputs": []
    },
    {
      "cell_type": "code",
      "source": [
        "Ramayan=Book(\"Ramayan\",\"Valmiki\",1000)\n",
        "print(Ramayan.get_book_info())"
      ],
      "metadata": {
        "colab": {
          "base_uri": "https://localhost:8080/"
        },
        "id": "PwtVQjCBJiQ9",
        "outputId": "753b87f6-d012-439d-fae4-1820ee1c8d5c"
      },
      "id": "PwtVQjCBJiQ9",
      "execution_count": 108,
      "outputs": [
        {
          "output_type": "stream",
          "name": "stdout",
          "text": [
            "Title: Ramayan\n",
            "Author: Valmiki\n",
            "Year Published: 1000\n"
          ]
        }
      ]
    },
    {
      "cell_type": "code",
      "source": [
        "#18\n",
        "class House:\n",
        "  def __init__(self,address,price):\n",
        "    self.address=address\n",
        "    self.price=price\n",
        "  def get_house_info(self):\n",
        "    return f\"Address: {self.address}\\nPrice: {self.price}\""
      ],
      "metadata": {
        "id": "MqiP_Du5JiO9"
      },
      "id": "MqiP_Du5JiO9",
      "execution_count": 112,
      "outputs": []
    },
    {
      "cell_type": "code",
      "source": [
        "nibas=House(\"NIBAS\",100)\n",
        "print(nibas.get_house_info())"
      ],
      "metadata": {
        "colab": {
          "base_uri": "https://localhost:8080/"
        },
        "id": "ZwLaxaxpJiKz",
        "outputId": "191f4ac8-2f4d-4850-daa3-507d3165de75"
      },
      "id": "ZwLaxaxpJiKz",
      "execution_count": 113,
      "outputs": [
        {
          "output_type": "stream",
          "name": "stdout",
          "text": [
            "Address: NIBAS\n",
            "Price: 100\n"
          ]
        }
      ]
    },
    {
      "cell_type": "code",
      "source": [],
      "metadata": {
        "id": "ianzJyM9JiHQ"
      },
      "id": "ianzJyM9JiHQ",
      "execution_count": null,
      "outputs": []
    },
    {
      "cell_type": "code",
      "source": [],
      "metadata": {
        "id": "6lWRzmNvJiFe"
      },
      "id": "6lWRzmNvJiFe",
      "execution_count": null,
      "outputs": []
    }
  ],
  "metadata": {
    "kernelspec": {
      "display_name": "Python 3",
      "name": "python3"
    },
    "language_info": {
      "name": "python"
    },
    "required_libs": [],
    "colab": {
      "provenance": [],
      "include_colab_link": true
    }
  },
  "nbformat": 4,
  "nbformat_minor": 5
}