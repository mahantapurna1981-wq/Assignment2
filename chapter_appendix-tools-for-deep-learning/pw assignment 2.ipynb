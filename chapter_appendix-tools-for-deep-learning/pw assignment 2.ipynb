{
  "cells": [
    {
      "cell_type": "markdown",
      "id": "31d9a4c9",
      "metadata": {
        "origin_pos": 0,
        "id": "31d9a4c9"
      },
      "source": [
        "# Using Jupyter Notebooks\n",
        ":label:`sec_jupyter`\n",
        "\n",
        "\n",
        "This section describes how to edit and run the code\n",
        "in each section of this book\n",
        "using the Jupyter Notebook. Make sure you have\n",
        "installed Jupyter and downloaded the\n",
        "code as described in\n",
        ":ref:`chap_installation`.\n",
        "If you want to know more about Jupyter see the excellent tutorial in\n",
        "their [documentation](https://jupyter.readthedocs.io/en/latest/).\n",
        "\n",
        "\n",
        "## Editing and Running the Code Locally\n",
        "\n",
        "Suppose that the local path of the book's code is `xx/yy/d2l-en/`. Use the shell to change the directory to this path (`cd xx/yy/d2l-en`) and run the command `jupyter notebook`. If your browser does not do this automatically, open http://localhost:8888 and you will see the interface of Jupyter and all the folders containing the code of the book, as shown in :numref:`fig_jupyter00`.\n",
        "\n",
        "![The folders containing the code of this book.](https://github.com/d2l-ai/d2l-en-colab/blob/master/img/jupyter00.png?raw=1)\n",
        ":width:`600px`\n",
        ":label:`fig_jupyter00`\n",
        "\n",
        "\n",
        "You can access the notebook files by clicking on the folder displayed on the webpage.\n",
        "They usually have the suffix \".ipynb\".\n",
        "For the sake of brevity, we create a temporary \"test.ipynb\" file.\n",
        "The content displayed after you click it is\n",
        "shown in :numref:`fig_jupyter01`.\n",
        "This notebook includes a markdown cell and a code cell. The content in the markdown cell includes \"This Is a Title\" and \"This is text.\".\n",
        "The code cell contains two lines of Python code.\n",
        "\n",
        "![Markdown and code cells in the \"text.ipynb\" file.](https://github.com/d2l-ai/d2l-en-colab/blob/master/img/jupyter01.png?raw=1)\n",
        ":width:`600px`\n",
        ":label:`fig_jupyter01`\n",
        "\n",
        "\n",
        "Double click on the markdown cell to enter edit mode.\n",
        "Add a new text string \"Hello world.\" at the end of the cell, as shown in :numref:`fig_jupyter02`.\n",
        "\n",
        "![Edit the markdown cell.](https://github.com/d2l-ai/d2l-en-colab/blob/master/img/jupyter02.png?raw=1)\n",
        ":width:`600px`\n",
        ":label:`fig_jupyter02`\n",
        "\n",
        "\n",
        "As demonstrated in :numref:`fig_jupyter03`,\n",
        "click \"Cell\" $\\rightarrow$ \"Run Cells\" in the menu bar to run the edited cell.\n",
        "\n",
        "![Run the cell.](https://github.com/d2l-ai/d2l-en-colab/blob/master/img/jupyter03.png?raw=1)\n",
        ":width:`600px`\n",
        ":label:`fig_jupyter03`\n",
        "\n",
        "After running, the markdown cell is shown in :numref:`fig_jupyter04`.\n",
        "\n",
        "![The markdown cell after running.](https://github.com/d2l-ai/d2l-en-colab/blob/master/img/jupyter04.png?raw=1)\n",
        ":width:`600px`\n",
        ":label:`fig_jupyter04`\n",
        "\n",
        "\n",
        "Next, click on the code cell. Multiply the elements by 2 after the last line of code, as shown in :numref:`fig_jupyter05`.\n",
        "\n",
        "![Edit the code cell.](https://github.com/d2l-ai/d2l-en-colab/blob/master/img/jupyter05.png?raw=1)\n",
        ":width:`600px`\n",
        ":label:`fig_jupyter05`\n",
        "\n",
        "\n",
        "You can also run the cell with a shortcut (\"Ctrl + Enter\" by default) and obtain the output result from :numref:`fig_jupyter06`.\n",
        "\n",
        "![Run the code cell to obtain the output.](https://github.com/d2l-ai/d2l-en-colab/blob/master/img/jupyter06.png?raw=1)\n",
        ":width:`600px`\n",
        ":label:`fig_jupyter06`\n",
        "\n",
        "\n",
        "When a notebook contains more cells, we can click \"Kernel\" $\\rightarrow$ \"Restart & Run All\" in the menu bar to run all the cells in the entire notebook. By clicking \"Help\" $\\rightarrow$ \"Edit Keyboard Shortcuts\" in the menu bar, you can edit the shortcuts according to your preferences.\n",
        "\n",
        "## Advanced Options\n",
        "\n",
        "Beyond local editing two things are quite important: editing the notebooks in the markdown format and running Jupyter remotely.\n",
        "The latter matters when we want to run the code on a faster server.\n",
        "The former matters since Jupyter's native ipynb format stores a lot of auxiliary data that is\n",
        "irrelevant to the content,\n",
        "mostly related to how and where the code is run.\n",
        "This is confusing for Git, making\n",
        "reviewing contributions very difficult.\n",
        "Fortunately there is an alternative---native editing in the markdown format.\n",
        "\n",
        "### Markdown Files in Jupyter\n",
        "\n",
        "If you wish to contribute to the content of this book, you need to modify the\n",
        "source file (md file, not ipynb file) on GitHub.\n",
        "Using the notedown plugin we\n",
        "can modify notebooks in the md format directly in Jupyter.\n",
        "\n",
        "\n",
        "First, install the notedown plugin, run the Jupyter Notebook, and load the plugin:\n",
        "\n",
        "```\n",
        "pip install d2l-notedown  # You may need to uninstall the original notedown.\n",
        "jupyter notebook --NotebookApp.contents_manager_class='notedown.NotedownContentsManager'\n",
        "```\n",
        "\n",
        "You may also turn on the notedown plugin by default whenever you run the Jupyter Notebook.\n",
        "First, generate a Jupyter Notebook configuration file (if it has already been generated, you can skip this step).\n",
        "\n",
        "```\n",
        "jupyter notebook --generate-config\n",
        "```\n",
        "\n",
        "Then, add the following line to the end of the Jupyter Notebook configuration file (for Linux or macOS, usually in the path `~/.jupyter/jupyter_notebook_config.py`):\n",
        "\n",
        "```\n",
        "c.NotebookApp.contents_manager_class = 'notedown.NotedownContentsManager'\n",
        "```\n",
        "\n",
        "After that, you only need to run the `jupyter notebook` command to turn on the notedown plugin by default.\n",
        "\n",
        "### Running Jupyter Notebooks on a Remote Server\n",
        "\n",
        "Sometimes, you may want to run Jupyter notebooks on a remote server and access it through a browser on your local computer. If Linux or macOS is installed on your local machine (Windows can also support this function through third-party software such as PuTTY), you can use port forwarding:\n",
        "\n",
        "```\n",
        "ssh myserver -L 8888:localhost:8888\n",
        "```\n",
        "\n",
        "The above string `myserver` is the address of the remote server.\n",
        "Then we can use http://localhost:8888 to access the remote server `myserver` that runs Jupyter notebooks. We will detail on how to run Jupyter notebooks on AWS instances\n",
        "later in this appendix.\n",
        "\n",
        "### Timing\n",
        "\n",
        "We can use the `ExecuteTime` plugin to time the execution of each code cell in Jupyter notebooks.\n",
        "Use the following commands to install the plugin:\n",
        "\n",
        "```\n",
        "pip install jupyter_contrib_nbextensions\n",
        "jupyter contrib nbextension install --user\n",
        "jupyter nbextension enable execute_time/ExecuteTime\n",
        "```\n",
        "\n",
        "## Summary\n",
        "\n",
        "* Using the Jupyter Notebook tool, we can edit, run, and contribute to each section of the book.\n",
        "* We can run Jupyter notebooks on remote servers using port forwarding.\n",
        "\n",
        "\n",
        "## Exercises\n",
        "\n",
        "1. Edit and run the code in this book with the Jupyter Notebook on your local machine.\n",
        "1. Edit and run the code in this book with the Jupyter Notebook *remotely* via port forwarding.\n",
        "1. Compare the running time of the operations $\\mathbf{A}^\\top \\mathbf{B}$ and $\\mathbf{A} \\mathbf{B}$ for two square matrices in $\\mathbb{R}^{1024 \\times 1024}$. Which one is faster?\n",
        "\n",
        "\n",
        "[Discussions](https://discuss.d2l.ai/t/421)\n"
      ]
    },
    {
      "cell_type": "markdown",
      "source": [
        "# Data Types and Structures Questions\n",
        "\n",
        "\n",
        "## **1. What are data structures, and why are they important?**\n",
        "ANSWER:-\n",
        "\tData structures are ways of organizing and storing data in a computer so that it can be accessed and modified efficiently. They are important because they enable efficient storage and retrieval of data, which is crucial for building efficient algorithms and programs. Choosing the right data structure can significantly impact a program's performance and resource usage.\n",
        "\n",
        "##**2. Explain the difference between mutable and immutable data types with examples.**\n",
        "\n",
        "ANSWER:-\n",
        "Mutable data types can be changed after they are created, while immutable data types cannot.\n",
        "\n",
        "**Mutable Example:** Lists in Python are mutable. You can add, remove, or change elements in a list after it's created.\n",
        "\n",
        "\tPython code:\n",
        "\n",
        "\tmy_list = [1, 2, 3]\n",
        "\n",
        "\tmy_list.append(4)\n",
        "\t# my_list is now [1, 2, 3, 4]\n",
        "**Immutable Example:** Tuples and strings in Python are immutable. Once created, their elements or characters cannot be changed.\n",
        "\n",
        "\tPython code:\n",
        "\n",
        "\n",
        "\tmy_tuple = (1, 2, 3)\n",
        "\n",
        "\t# my_tuple[0] = 5  \n",
        "\t# This would raise a TypeError\n",
        "##**3. What are the main differences between lists and tuples in Python?**\n",
        "\n",
        "\n",
        "ANSWER:-\n",
        "\tThe main differences are:\n",
        "\n",
        "**Mutability:** Lists are mutable (can be changed), while tuples are immutable (cannot be changed).\n",
        "\n",
        "**Syntax:** Lists are defined using square brackets [], while tuples are defined using parentheses ().\n",
        "\n",
        "**Use Cases:** Lists are suitable for collections of items that may change, while tuples are used for fixed collections where data integrity is important.\n",
        "##**4. Describe how dictionaries store data.**\n",
        "ANSWER:-\n",
        "\n",
        "Dictionaries in Python store data as key-value pairs. Each key must be unique and immutable (like strings, numbers, or tuples), and it maps to a corresponding value, which can be any data type. Dictionaries use a hash table internally to store these pairs, allowing for efficient retrieval of values based on their keys.\n",
        "\n",
        "##**5. Why might you use a set instead of a list in Python?**\n",
        "ANSWER:-\n",
        "**You might use a set instead of a list in Python when:**\n",
        "\n",
        "\n",
        " You need to store a collection of unique elements (sets automatically handle duplicate values).\n",
        "\n",
        " You need to perform fast membership testing (checking if an element exists in the collection).\n",
        "\n",
        " You need to perform mathematical set operations like union, intersection, and difference.\n",
        "##**6. What is a string in Python, and how is it different from a list?**\n",
        "\n",
        "\n",
        "ANSWER:-\n",
        "\tA string in Python is an immutable sequence of characters,enclosed in single or double quotes.\n",
        "\n",
        "***It is different from a list in that:***\n",
        "\n",
        "**Mutability:** Strings are immutable, while lists are mutable.\n",
        "\n",
        "**Element Type:** Strings contain only characters, while lists can contain elements of any data type.\n",
        "\n",
        "**Purpose:** Strings are designed for textual data, while lists are general-purpose collections.\n",
        "\n",
        "##**7. How do tuples ensure data integrity in Python?**\n",
        "ANSWER:-\n",
        "Tuples ensure data integrity in Python because they are immutable. Once a tuple is created, its elements cannot be changed, added, or removed. This prevents accidental modification of data and makes tuples suitable for storing data that should remain constant throughout the program's execution.\n",
        "\n",
        "##**8. What is a hash table, and how does it relate to dictionaries in Python?**\n",
        "ANSWER:-\n",
        "\n",
        "A hash table is a data structure that stores data in an associative array format, mapping keys to values. It uses a hash function to compute an index into an array of buckets or slots, from which the desired value can be found. Python dictionaries are implemented using hash tables, which allows them to provide efficient average-case time complexity for operations like insertion, deletion, and lookup.\n",
        "\n",
        "##**9. Can lists contain different data types in Python?**\n",
        "\n",
        "\n",
        "ANSWER:-\n",
        "Yes, lists in Python can contain different data types. For example, a single list can hold integers, strings, floats, and even other lists or dictionaries.\n",
        "\n",
        "\tPython code\n",
        "\n",
        "\t\tmixed_list = [1, \"hello\", 3.14, [4, 5]]\n",
        "##**10. Explain why strings are immutable in Python.**\n",
        "\n",
        "\n",
        "ANSWER:-\n",
        "Strings are immutable in Python primarily for efficiency and thread safety. When a string is created, its memory location is fixed. If you were to \"modify\" a string, a new string object would actually be created in memory. This immutability also makes them suitable for use as dictionary keys and elements within sets, as their hash value remains constant.\n",
        "\n",
        "##**11. What advantages do dictionaries offer over lists for certain tasks?**\n",
        "\n",
        "ANSWER:-\n",
        "***Dictionaries offer several advantages over lists for certain tasks:***\n",
        "\n",
        "**Fast Lookups by Key:**\n",
        "\t\tDictionaries provide very fast average-case time complexity for retrieving values based on their unique keys, unlike lists which require linear searches by index.\n",
        "\n",
        "**Semantic Organization:**\n",
        "\t\tData can be organized more semantically using descriptive keys, making the code more readable and understandable.\n",
        "\n",
        "**Flexible Data Representation:**\n",
        "\t\tDictionaries are ideal for representing structured data where elements have a name or identifier.\n",
        "\n",
        "##**12. Describe a scenario where using a tuple would be preferable over a list.**\n",
        "ANSWER:-\n",
        "A scenario where using a tuple would be preferable over a list is when storing fixed-size, unchangeable collections of related data, such as geographical coordinates (latitude, longitude), a date (year, month, day), or the RGB values of a color. Since these values should not change, using an immutable tuple ensures data integrity and can also be slightly more memory-efficient than a list for such fixed data.\n",
        "\n",
        "##**13. How do sets handle duplicate values in Python?**\n",
        "\n",
        "\n",
        "ANSWER:-\n",
        "Sets in Python automatically handle duplicate values by storing only one instance of each unique element. When you add an element that already exists in a set, the set simply ignores the addition, ensuring that all elements within a set are unique.\n",
        "\n",
        "##**14. How does the \"in\" keyword work differently for lists and dictionaries?**\n",
        "\n",
        "\n",
        "ANSWER:-\n",
        "***The \"in\" keyword works differently for lists and dictionaries:***\n",
        "\n",
        "**Lists:** When used with a list, element in list checks if element is present as a value within the list.\n",
        "\n",
        "**Dictionaries:** When used with a dictionary, key in dictionary checks if key is present as a key in the dictionary. To check for values, you would use value in dictionary.values().\n",
        "\n",
        "##**15. Can you modify the elements of a tuple? Explain why or why not.**\n",
        "\n",
        "\n",
        "ANSWER:-\n",
        "No, you cannot modify the elements of a tuple directly because tuples are immutable data types in Python. Once a tuple is created, its contents are fixed and cannot be changed. Any attempt to modify an element will result in a TypeError.\n",
        "\n",
        "##**16. What is a nested dictionary, and give an example of its use case?**\n",
        "\n",
        "\n",
        "ANSWER:-\n",
        "A nested dictionary is a dictionary where the values of some keys are themselves other dictionaries.\n",
        "\n",
        "**Use Case Example:** Representing hierarchical data like a database of students and their courses.\n",
        "\n",
        "\tPython code\n",
        "\t\tstudents = {\n",
        "\n",
        "\t\t    \"Suman\": {\"age\": 18, \"major\": \"Chemistry\"},\n",
        "\n",
        "\t\t    \"Rekha\": {\"age\": 18, \"major\": \"Zoology\"}\n",
        "\n",
        "\t\t}\n",
        "##**17. Describe the time complexity of accessing elements in a dictionary.**\n",
        "\n",
        "\n",
        "ANSWER:-\n",
        "The time complexity of accessing elements in a dictionary (retrieving a value by its key) is O(1) on average (constant time). This is due to the underlying hash table implementation, which allows for direct calculation of the element's location based on its key's hash value. In the worst-case scenario (due to hash collisions), it can degrade to O(n).\n",
        "\n",
        "##**18. In what situations are lists preferred over dictionaries?**\n",
        "\n",
        "\n",
        "ANSWER:-\n",
        "***Lists are preferred over dictionaries in situations where:***\n",
        "\n",
        "**Order matters:** Lists maintain the order of elements, which is important for ordered sequences.\n",
        "\n",
        "**Elements are accessed by index:** When you need to access elements by their numerical position.\n",
        "\n",
        "**Storing a collection of items without unique identifiers:** When the data doesn't naturally fit into key-value pairs.\n",
        "\n",
        "**Storing duplicates:** Lists allow duplicate elements, unlike sets or dictionaries (for keys).\n",
        "\n",
        "##**19. Why are dictionaries considered unordered, and how does that affect data retrieval?**\n",
        "\n",
        "\n",
        "ANSWER:-\n",
        "***Lists are preferred over dictionaries in situations where:***\n",
        "\n",
        "**Order matters:** Lists maintain the order of elements, which is important for ordered sequences.\n",
        "\n",
        "**Elements are accessed by index:** When you need to access elements by their numerical position.\n",
        "\n",
        "**Storing a collection of items without unique identifiers:** When the data doesn't naturally fit into key-value pairs.\n",
        "\n",
        "**Storing duplicates:** Lists allow duplicate elements, unlike sets or dictionaries (for keys).\n",
        "\n",
        "##**20. Explain the difference between a list and a dictionary in terms.**\n",
        "ANSWER:-\n",
        "**Lists:**\n",
        "\n",
        "Data retrieval in lists is primarily done by numerical index (e.g., my_list[0]). This means you need to know the position of the element to access it.\n",
        "\n",
        "**Dictionaries:**\n",
        "\n",
        "Data retrieval in dictionaries is done by key (e.g., my_dict[\"key_name\"]). This allows for more semantic and direct access to values based on their associated identifiers, rather than their position."
      ],
      "metadata": {
        "id": "R8Y1ByHod6jT"
      },
      "id": "R8Y1ByHod6jT"
    },
    {
      "cell_type": "markdown",
      "source": [
        "#Practical Questions\n",
        "\n",
        "1. Write a code to create a string with your name and print it.\n",
        "\n",
        "2. Write a code to find the length of the string \"Hello World\".\n",
        "\n",
        "3. Write a code to slice the first 3 characters from the string \"Python Programming.\n",
        "\n",
        "4. Write a code to convert the string \"hello\" to uppercase.\n",
        "\n",
        "5. Write a code to replace the word \"apple\" with \"orange\" in the string \"I like apple\"\n",
        "\n",
        "6. Write a code to create a list with numbers 1 to 5 and print it.\n",
        "\n",
        "7. Write a code to append the number 10 to the list [1, 2, 3, 4].\n",
        "\n",
        "8. Write a code to remove the number 3 from the list [1, 2, 3, 4, 5].\n",
        "\n",
        "9. Write a code to access the second element in the list ['a, b, c, d].\n",
        "\n",
        "10. Write a code to reverse the list 10, 20, 30, 40, 50).\n",
        "\n",
        "11. Write a code to create a tuple with the elements 100, 200, 300 and print it.\n",
        "\n",
        "12. Write a code to access the second-to-last element of the tuple ('red', green', 'blue', yellow').\n",
        "\n",
        "13. Write a code to find the minimum number in the tuple (10, 20, 5, 15).\n",
        "\n",
        "14. Write a code to find the index of the element \"cat\" in the tuple ('dog', 'cat', 'rabbit').\n",
        "\n",
        "15. Write a code to create a tuple containing three different fruits and check if 'kiwi\" is in it.\n",
        "\n",
        "16. Write a code to create a set with the elements 'a', 'b', 'c' and print it.\n",
        "\n",
        "17. Write a code to clear all elements from the set (1, 2, 3, 4, 5).\n",
        "\n",
        "18. Write a code to remove the element 4 from the set (1, 2, 3, 4).\n",
        "\n",
        "19. Write a code to find the union of two sets (1, 2, 3) and (3, 4, 5).\n",
        "\n",
        "20. Write a code to find the intersection of two sets (1, 2, 3) and (2, 3, 4).\n",
        "\n",
        "21. Write a code to create a dictionary with the keys \"name\", \"age\", and \"city\", and print it..\n",
        "\n",
        "22. Write a code to add a new key-value pair \"country\" \"USA\" to the dictionary ['name': 'John', 'age': 25).\n",
        "\n",
        "23. Write a code to access the value associated with the key \"name\" in the dictionary ['name': 'Alice', 'age': 30).\n",
        "\n",
        "24. Write a code to remove the key \"age\" from the dictionary ['name': Bob', 'age': 22, 'city': 'New York).\n",
        "\n",
        "25. Write a code to check if the key \"city\" exists in the dictionary ['name': 'Alice', 'city: 'Paris).\n",
        "\n",
        "26. Write a code to create a list, a tuple, and a dictionary, and print them all\n",
        "\n",
        "27. Write a code to create a list of 5 random numbers between 1 and 100, sort it in ascending order, and print the result.(replaced)\n",
        "\n",
        "28. Write a code to create a list with strings and print the element at the third index.\n",
        "\n",
        "29. Write a code to combine two dictionaries into one and print the result.\n",
        "\n",
        "30. Write a code to convert a list of strings into a set."
      ],
      "metadata": {
        "id": "GQVn9uoSrfl5"
      },
      "id": "GQVn9uoSrfl5"
    },
    {
      "cell_type": "code",
      "source": [
        "#1\n",
        "name=\"Suman\"\n",
        "print(name)"
      ],
      "metadata": {
        "colab": {
          "base_uri": "https://localhost:8080/"
        },
        "id": "cEYf-qfuk5S6",
        "outputId": "09f893d4-0cc3-4c75-bf38-b3c5d5402527"
      },
      "id": "cEYf-qfuk5S6",
      "execution_count": 5,
      "outputs": [
        {
          "output_type": "stream",
          "name": "stdout",
          "text": [
            "Suman\n"
          ]
        }
      ]
    },
    {
      "cell_type": "code",
      "source": [
        "#2\n",
        "hw=\"Hello World\"\n",
        "print(len(hw))"
      ],
      "metadata": {
        "colab": {
          "base_uri": "https://localhost:8080/"
        },
        "id": "7oErrsJjfYAx",
        "outputId": "b88d47f9-2c73-4e64-d33a-baf32d8f4563"
      },
      "id": "7oErrsJjfYAx",
      "execution_count": 6,
      "outputs": [
        {
          "output_type": "stream",
          "name": "stdout",
          "text": [
            "11\n"
          ]
        }
      ]
    },
    {
      "cell_type": "code",
      "source": [
        "#3\n",
        "py=\"Python Programming\"\n",
        "print(py[0:3])"
      ],
      "metadata": {
        "colab": {
          "base_uri": "https://localhost:8080/"
        },
        "id": "7yxDqOrCtGaM",
        "outputId": "d9db20ea-fb1d-4193-c984-adf27c1fb355"
      },
      "id": "7yxDqOrCtGaM",
      "execution_count": 7,
      "outputs": [
        {
          "output_type": "stream",
          "name": "stdout",
          "text": [
            "Pyt\n"
          ]
        }
      ]
    },
    {
      "cell_type": "code",
      "source": [
        "#4\n",
        "hello=\"hello\"\n",
        "print(hello.upper())"
      ],
      "metadata": {
        "colab": {
          "base_uri": "https://localhost:8080/"
        },
        "id": "mqRmNe-9tGW4",
        "outputId": "74ecdd00-09d7-4029-b82b-cdb56936609d"
      },
      "id": "mqRmNe-9tGW4",
      "execution_count": 8,
      "outputs": [
        {
          "output_type": "stream",
          "name": "stdout",
          "text": [
            "HELLO\n"
          ]
        }
      ]
    },
    {
      "cell_type": "code",
      "source": [
        "#5\n",
        "str=\"I like apple\"\n",
        "print(str.replace(\"apple\",\"orange\"))"
      ],
      "metadata": {
        "colab": {
          "base_uri": "https://localhost:8080/"
        },
        "id": "59A0a8bftGUV",
        "outputId": "9fae5e8d-2a2b-430a-c060-a6727d3cdfea"
      },
      "id": "59A0a8bftGUV",
      "execution_count": 9,
      "outputs": [
        {
          "output_type": "stream",
          "name": "stdout",
          "text": [
            "I like orange\n"
          ]
        }
      ]
    },
    {
      "cell_type": "code",
      "source": [
        "#6\n",
        "list=[1,2,3,4,5]\n",
        "print(list)"
      ],
      "metadata": {
        "colab": {
          "base_uri": "https://localhost:8080/"
        },
        "id": "dkgi69N8tGQ0",
        "outputId": "96706e3e-05ae-416f-c2f1-d44cdaa058ac"
      },
      "id": "dkgi69N8tGQ0",
      "execution_count": 10,
      "outputs": [
        {
          "output_type": "stream",
          "name": "stdout",
          "text": [
            "[1, 2, 3, 4, 5]\n"
          ]
        }
      ]
    },
    {
      "cell_type": "code",
      "source": [
        "#7\n",
        "list=[1,2,3,4]\n",
        "list.append(10)\n",
        "print(list)"
      ],
      "metadata": {
        "colab": {
          "base_uri": "https://localhost:8080/"
        },
        "id": "V3C1jBHStGOX",
        "outputId": "b3817130-d18a-4954-fefa-7a337577d5df"
      },
      "id": "V3C1jBHStGOX",
      "execution_count": 11,
      "outputs": [
        {
          "output_type": "stream",
          "name": "stdout",
          "text": [
            "[1, 2, 3, 4, 10]\n"
          ]
        }
      ]
    },
    {
      "cell_type": "code",
      "source": [
        "#8\n",
        "list=[1,2,3,4,5]\n",
        "list.remove(3)\n",
        "print(list)"
      ],
      "metadata": {
        "colab": {
          "base_uri": "https://localhost:8080/"
        },
        "id": "8owWuSaWtGKt",
        "outputId": "b2569809-f668-467a-c4f2-a313481345a9"
      },
      "id": "8owWuSaWtGKt",
      "execution_count": 12,
      "outputs": [
        {
          "output_type": "stream",
          "name": "stdout",
          "text": [
            "[1, 2, 4, 5]\n"
          ]
        }
      ]
    },
    {
      "cell_type": "code",
      "source": [
        "#9\n",
        "list=['a','b','c','d']\n",
        "print(list[1])"
      ],
      "metadata": {
        "colab": {
          "base_uri": "https://localhost:8080/"
        },
        "id": "z87Ls6vltGIa",
        "outputId": "4af86ce7-47d7-42e1-ff49-6f29e8384c12"
      },
      "id": "z87Ls6vltGIa",
      "execution_count": 17,
      "outputs": [
        {
          "output_type": "stream",
          "name": "stdout",
          "text": [
            "b\n"
          ]
        }
      ]
    },
    {
      "cell_type": "code",
      "source": [
        "#10\n",
        "list=[10,20,30,40,50]\n",
        "list.reverse()\n",
        "print(list)"
      ],
      "metadata": {
        "colab": {
          "base_uri": "https://localhost:8080/"
        },
        "id": "7OTLBzEztGGG",
        "outputId": "3fe445fa-294f-410f-d005-c1927732290f"
      },
      "id": "7OTLBzEztGGG",
      "execution_count": 16,
      "outputs": [
        {
          "output_type": "stream",
          "name": "stdout",
          "text": [
            "[50, 40, 30, 20, 10]\n"
          ]
        }
      ]
    },
    {
      "cell_type": "code",
      "source": [
        "#11\n",
        "tuple=(100,200,300)\n",
        "print(tuple)"
      ],
      "metadata": {
        "colab": {
          "base_uri": "https://localhost:8080/"
        },
        "id": "E2QOMYYPtGEC",
        "outputId": "545fb18e-e50d-43e9-c798-0847c9421892"
      },
      "id": "E2QOMYYPtGEC",
      "execution_count": 15,
      "outputs": [
        {
          "output_type": "stream",
          "name": "stdout",
          "text": [
            "(100, 200, 300)\n"
          ]
        }
      ]
    },
    {
      "cell_type": "code",
      "source": [
        "#12\n",
        "tuple=('red','green','blue','yellow')\n",
        "print(tuple[-2])"
      ],
      "metadata": {
        "colab": {
          "base_uri": "https://localhost:8080/"
        },
        "id": "DwKWm6hZtF8U",
        "outputId": "7c454e04-8a70-4a29-caf1-471dad5ab4e7"
      },
      "id": "DwKWm6hZtF8U",
      "execution_count": 14,
      "outputs": [
        {
          "output_type": "stream",
          "name": "stdout",
          "text": [
            "blue\n"
          ]
        }
      ]
    },
    {
      "cell_type": "code",
      "source": [
        "#13\n",
        "tuple=(10,20,5,15)\n",
        "print(min(tuple))"
      ],
      "metadata": {
        "colab": {
          "base_uri": "https://localhost:8080/"
        },
        "id": "UD3-F71wtFwC",
        "outputId": "b7df184c-3c8a-411b-ac04-f155388fcab8"
      },
      "id": "UD3-F71wtFwC",
      "execution_count": 13,
      "outputs": [
        {
          "output_type": "stream",
          "name": "stdout",
          "text": [
            "5\n"
          ]
        }
      ]
    },
    {
      "cell_type": "code",
      "source": [
        "#14\n",
        "tuple=('dog','cat','rabbit')\n",
        "print(tuple.index('cat'))"
      ],
      "metadata": {
        "colab": {
          "base_uri": "https://localhost:8080/"
        },
        "id": "-Nho60u_tFf2",
        "outputId": "19ab9301-a5f3-44a7-dbc9-fdbd6ca5724c"
      },
      "id": "-Nho60u_tFf2",
      "execution_count": 45,
      "outputs": [
        {
          "output_type": "stream",
          "name": "stdout",
          "text": [
            "1\n"
          ]
        }
      ]
    },
    {
      "cell_type": "code",
      "source": [
        "#15\n",
        "tuple=('apple','banana','kiwi')\n",
        "print('kiwi' in tuple)"
      ],
      "metadata": {
        "colab": {
          "base_uri": "https://localhost:8080/"
        },
        "id": "Z8JYAxDtukQZ",
        "outputId": "9422a86e-217e-4806-869b-3fca88ac4318"
      },
      "id": "Z8JYAxDtukQZ",
      "execution_count": 44,
      "outputs": [
        {
          "output_type": "stream",
          "name": "stdout",
          "text": [
            "True\n"
          ]
        }
      ]
    },
    {
      "cell_type": "code",
      "source": [
        "#16\n",
        "set={'a','b','c','a'}\n",
        "print(set)"
      ],
      "metadata": {
        "colab": {
          "base_uri": "https://localhost:8080/"
        },
        "id": "14iupLSgukLp",
        "outputId": "a0228166-7b2e-4489-a269-7cebff009f88"
      },
      "id": "14iupLSgukLp",
      "execution_count": 41,
      "outputs": [
        {
          "output_type": "stream",
          "name": "stdout",
          "text": [
            "{'a', 'b', 'c'}\n"
          ]
        }
      ]
    },
    {
      "cell_type": "code",
      "source": [
        "#17\n",
        "set={1,2,3,4,5}\n",
        "set.clear()\n",
        "print(set)"
      ],
      "metadata": {
        "colab": {
          "base_uri": "https://localhost:8080/"
        },
        "id": "lDdVgr_3ukG7",
        "outputId": "b0bbbba0-ac5e-42fd-971d-be7bc4ef8ea1"
      },
      "id": "lDdVgr_3ukG7",
      "execution_count": 39,
      "outputs": [
        {
          "output_type": "stream",
          "name": "stdout",
          "text": [
            "set()\n"
          ]
        }
      ]
    },
    {
      "cell_type": "code",
      "source": [
        "#18\n",
        "set={1,2,3,4}\n",
        "set.remove(4)\n",
        "print(set)"
      ],
      "metadata": {
        "colab": {
          "base_uri": "https://localhost:8080/"
        },
        "id": "vemuhVejukBt",
        "outputId": "8d1f2bbb-d5fd-4fad-f1b7-7434b959b832"
      },
      "id": "vemuhVejukBt",
      "execution_count": 38,
      "outputs": [
        {
          "output_type": "stream",
          "name": "stdout",
          "text": [
            "{1, 2, 3}\n"
          ]
        }
      ]
    },
    {
      "cell_type": "code",
      "source": [
        "#19\n",
        "set1={1,2,3}\n",
        "set2={3,4,5}\n",
        "print(set1.union(set2))"
      ],
      "metadata": {
        "colab": {
          "base_uri": "https://localhost:8080/"
        },
        "id": "qfExKwXtuj8t",
        "outputId": "5696d487-2bd1-46ec-895f-5eaa07b0d27a"
      },
      "id": "qfExKwXtuj8t",
      "execution_count": 37,
      "outputs": [
        {
          "output_type": "stream",
          "name": "stdout",
          "text": [
            "{1, 2, 3, 4, 5}\n"
          ]
        }
      ]
    },
    {
      "cell_type": "code",
      "source": [
        "#20\n",
        "set1={1,2,3}\n",
        "set2={2,3,4}\n",
        "print(set1.intersection(set2))"
      ],
      "metadata": {
        "colab": {
          "base_uri": "https://localhost:8080/"
        },
        "id": "Xw_5YS7Hujzx",
        "outputId": "76a2f4f0-82bc-486c-f0f2-7cfb36f83a56"
      },
      "id": "Xw_5YS7Hujzx",
      "execution_count": 36,
      "outputs": [
        {
          "output_type": "stream",
          "name": "stdout",
          "text": [
            "{2, 3}\n"
          ]
        }
      ]
    },
    {
      "cell_type": "code",
      "source": [
        "#21\n",
        "dict={'name':'Suman','age':18,'city':'Keonjhar'}\n",
        "print(dict)"
      ],
      "metadata": {
        "colab": {
          "base_uri": "https://localhost:8080/"
        },
        "id": "BNH7JkbSuju7",
        "outputId": "de7ae3f6-03a1-4e32-9316-d6f4e9363c68"
      },
      "id": "BNH7JkbSuju7",
      "execution_count": 35,
      "outputs": [
        {
          "output_type": "stream",
          "name": "stdout",
          "text": [
            "{'name': 'Suman', 'age': 18, 'city': 'Keonjhar'}\n"
          ]
        }
      ]
    },
    {
      "cell_type": "code",
      "source": [
        "#22\n",
        "dict={'name':'John','age':25}\n",
        "dict.update({'country':'USA'})\n",
        "print(dict)"
      ],
      "metadata": {
        "colab": {
          "base_uri": "https://localhost:8080/"
        },
        "id": "Vkg3NIPSujqA",
        "outputId": "6e63ba6c-ec6b-4cbd-b0c4-cea2d54666ee"
      },
      "id": "Vkg3NIPSujqA",
      "execution_count": 34,
      "outputs": [
        {
          "output_type": "stream",
          "name": "stdout",
          "text": [
            "{'name': 'John', 'age': 25, 'country': 'USA'}\n"
          ]
        }
      ]
    },
    {
      "cell_type": "code",
      "source": [
        "#23\n",
        "dict={'name':'Alice','age':30}\n",
        "print(dict['name'])"
      ],
      "metadata": {
        "colab": {
          "base_uri": "https://localhost:8080/"
        },
        "id": "Vz5LYS07ujkt",
        "outputId": "ec789e87-5067-433d-8360-6b3bedf13b1a"
      },
      "id": "Vz5LYS07ujkt",
      "execution_count": 33,
      "outputs": [
        {
          "output_type": "stream",
          "name": "stdout",
          "text": [
            "Alice\n"
          ]
        }
      ]
    },
    {
      "cell_type": "code",
      "source": [
        "#24\n",
        "dict={'name':'Bob','age':22,'city':'New York'}\n",
        "dict.pop('age')\n",
        "print(dict)"
      ],
      "metadata": {
        "colab": {
          "base_uri": "https://localhost:8080/"
        },
        "id": "QnxwjgVtujfh",
        "outputId": "8a5375ad-76a2-42a6-8583-ba2067686391"
      },
      "id": "QnxwjgVtujfh",
      "execution_count": 32,
      "outputs": [
        {
          "output_type": "stream",
          "name": "stdout",
          "text": [
            "{'name': 'Bob', 'city': 'New York'}\n"
          ]
        }
      ]
    },
    {
      "cell_type": "code",
      "source": [
        "#25\n",
        "dict={'name':'Alice','city':'Paris'}\n",
        "print('city' in dict)"
      ],
      "metadata": {
        "colab": {
          "base_uri": "https://localhost:8080/"
        },
        "id": "XLMPYRc4ujZo",
        "outputId": "57b529ee-2822-40c3-b25c-41967b7d93ea"
      },
      "id": "XLMPYRc4ujZo",
      "execution_count": 31,
      "outputs": [
        {
          "output_type": "stream",
          "name": "stdout",
          "text": [
            "True\n"
          ]
        }
      ]
    },
    {
      "cell_type": "code",
      "source": [
        "#26\n",
        "list=[1,2,3,4,5]\n",
        "tuple=(1,2,3)\n",
        "dict={'name':'Suman','age':18}\n",
        "print(list)\n",
        "print(tuple)\n",
        "print(dict)"
      ],
      "metadata": {
        "colab": {
          "base_uri": "https://localhost:8080/"
        },
        "id": "nQwDtkd2ujTe",
        "outputId": "87b90fda-d2fe-4833-c56f-1adf1de72c9d"
      },
      "id": "nQwDtkd2ujTe",
      "execution_count": 23,
      "outputs": [
        {
          "output_type": "stream",
          "name": "stdout",
          "text": [
            "[1, 2, 3, 4, 5]\n",
            "(1, 2, 3)\n",
            "{'name': 'Suman', 'age': 18}\n"
          ]
        }
      ]
    },
    {
      "cell_type": "code",
      "source": [
        "#27\n",
        "import random\n",
        "list=[]\n",
        "for i in range(5):\n",
        "  list.append(random.randint(1,100))\n",
        "list.sort()\n",
        "print(list)"
      ],
      "metadata": {
        "colab": {
          "base_uri": "https://localhost:8080/"
        },
        "id": "PjmqhfGbujMv",
        "outputId": "75c41b98-0778-4cd1-9ca0-2218a7481ad8"
      },
      "id": "PjmqhfGbujMv",
      "execution_count": 19,
      "outputs": [
        {
          "output_type": "stream",
          "name": "stdout",
          "text": [
            "[20, 23, 27, 44, 66]\n"
          ]
        }
      ]
    },
    {
      "cell_type": "code",
      "source": [
        "#28\n",
        "list=['a','b','c','d','e']\n",
        "print(list[3])"
      ],
      "metadata": {
        "colab": {
          "base_uri": "https://localhost:8080/"
        },
        "id": "WZiMF0i9ujE3",
        "outputId": "7bbcc55e-dced-4705-c17f-3015f022f46b"
      },
      "id": "WZiMF0i9ujE3",
      "execution_count": 22,
      "outputs": [
        {
          "output_type": "stream",
          "name": "stdout",
          "text": [
            "d\n"
          ]
        }
      ]
    },
    {
      "cell_type": "code",
      "source": [
        "#29\n",
        "dict1={'name':'Suman','age':18}\n",
        "dict2={'city':'Keonjhar','country':'India'}\n",
        "dict1.update(dict2)\n",
        "print(dict1)"
      ],
      "metadata": {
        "colab": {
          "base_uri": "https://localhost:8080/"
        },
        "id": "Wr2LIKPSui8N",
        "outputId": "0f2afa79-c363-4201-a842-616d0096ca56"
      },
      "id": "Wr2LIKPSui8N",
      "execution_count": 21,
      "outputs": [
        {
          "output_type": "stream",
          "name": "stdout",
          "text": [
            "{'name': 'Suman', 'age': 18, 'city': 'Keonjhar', 'country': 'India'}\n"
          ]
        }
      ]
    },
    {
      "cell_type": "code",
      "source": [
        "#30\n",
        "my_list=['Suman','Tushar','Suman','Rama']\n",
        "my_set=set(my_list)\n",
        "print(my_set)"
      ],
      "metadata": {
        "colab": {
          "base_uri": "https://localhost:8080/"
        },
        "id": "pfHQSyKLuiww",
        "outputId": "e29cdb61-2368-4f91-d839-93a8a90cae60"
      },
      "id": "pfHQSyKLuiww",
      "execution_count": 20,
      "outputs": [
        {
          "output_type": "stream",
          "name": "stdout",
          "text": [
            "{'Tushar', 'Rama', 'Suman'}\n"
          ]
        }
      ]
    }
  ],
  "metadata": {
    "kernelspec": {
      "display_name": "Python 3",
      "name": "python3"
    },
    "language_info": {
      "name": "python"
    },
    "required_libs": [],
    "colab": {
      "provenance": []
    }
  },
  "nbformat": 4,
  "nbformat_minor": 5
}
